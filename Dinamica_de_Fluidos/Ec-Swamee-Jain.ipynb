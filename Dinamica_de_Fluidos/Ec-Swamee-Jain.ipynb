{
 "cells": [
  {
   "cell_type": "code",
   "execution_count": null,
   "metadata": {},
   "outputs": [],
   "source": []
  },
  {
   "cell_type": "markdown",
   "metadata": {},
   "source": [
    "# La ecuación de Swamee-Jain trata de aproximar valores para el coeficiente de fricción de la siguiente manera:\n",
    "\n",
    "$$\n",
    "f = \\frac{0.25}{\\log_{10}(\\frac{e}{3.7D} + 5.74/\\Rey^{0.9})^2}\n",
    "$$\n",
    "\n"
   ]
  },
  {
   "cell_type": "markdown",
   "metadata": {},
   "source": []
  },
  {
   "cell_type": "markdown",
   "metadata": {},
   "source": []
  }
 ],
 "metadata": {
  "kernelspec": {
   "display_name": "Python 3.11.0 64-bit",
   "language": "python",
   "name": "python3"
  },
  "language_info": {
   "name": "python",
   "version": "3.11.0"
  },
  "orig_nbformat": 4,
  "vscode": {
   "interpreter": {
    "hash": "11b101de8802807ccc64a803063ae72c254aae076e4b81c5203b2f2fad9491c4"
   }
  }
 },
 "nbformat": 4,
 "nbformat_minor": 2
}
