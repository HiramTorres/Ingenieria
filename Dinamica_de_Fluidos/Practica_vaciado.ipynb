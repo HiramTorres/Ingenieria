{
 "cells": [
  {
   "cell_type": "markdown",
   "metadata": {},
   "source": [
    "# Práctica 1 \n",
    "## Vaciado de un depósito cilíndrico"
   ]
  },
  {
   "cell_type": "markdown",
   "metadata": {},
   "source": [
    "Se analizó un depósito cilíndrico de 22 cm de diámetro el cual se encuentra lleno de agua a diferentes alturas. Se abrió una válvula de descarga en la parte inferior del depósito, la cual tiene un volumen de control de 1.5 cm ubicado en la base del depósito. Se desea determinar el tiempo que tarda en vaciarse el depósito."
   ]
  },
  {
   "cell_type": "markdown",
   "metadata": {},
   "source": [
    "![img](https://encrypted-tbn0.gstatic.com/images?q=tbn:ANd9GcQ2RaXRNggxzgDlwBu4X_Li9vQDtPG3oiP5KSZSv0RJT31kCsononsESrO6sdO276O5L1g&usqp=CAU)"
   ]
  },
  {
   "cell_type": "markdown",
   "metadata": {},
   "source": [
    "**Fórmulas necesarias**\n",
    "\n",
    "$$\n",
    "Ecuación \\ de \\ energía\n",
    "$$\n",
    "\n",
    "\n",
    "$$\n",
    "\\frac{\\partial}{\\partial t} \\int_{vc} \\rho \\ d \\forall = - \\int_{sc} \\rho v \\ dA\n",
    "$$ \n",
    "\n",
    "$$\n",
    "Coeficiente \\ de \\ Velocidad\n",
    "$$\n",
    "$$\n",
    "v = C_v \\cdot \\sqrt{2gh}\n",
    "$$\n",
    "\n"
   ]
  },
  {
   "cell_type": "markdown",
   "metadata": {},
   "source": [
    "$Desarrollo$\n",
    "\n",
    "\n",
    "_Se hizó una primera muestra para determinar el tiempo de vaciado real, con este dato $t$ se determinó el coeficiente de velocidad $C_v$ y con este se determinó el tiempo de vaciado teórico para distintas medidas, con la finalidad de hace una comparativa real vs teórico._\n"
   ]
  },
  {
   "cell_type": "markdown",
   "metadata": {},
   "source": [
    "$$\n",
    "\\frac{\\partial}{\\partial t} \\int_{vc} \\rho \\ d \\forall = - \\int_{sc} \\rho v \\ dA \\Longrightarrow  d\\forall = \\pi \\cdot r^2 \\cdot dh \n",
    "$$ \n",
    "\n",
    "$$\n",
    "\\frac{\\partial}{\\partial t} \\ \\rho \\int_{vc}  \\pi \\cdot r^2 \\cdot dh = - \\int_{sc} \\rho v \\ dA \\Longrightarrow v = C_v \\cdot \\sqrt{2gh}\n",
    "$$\n",
    "\n",
    "$$\n",
    "\\therefore \\frac{\\partial}{\\partial t} \\ \\rho \\int_{vc}  \\pi \\cdot r^2 \\cdot dh = - \\rho \\int_{sc} C_v \\cdot \\sqrt{2gh} \\cdot dA\n",
    "$$\n",
    "\n",
    "$$\n",
    "\\int_{vc}  \\pi \\cdot r^2 \\cdot dh = - \\int_{sc} C_v \\cdot \\sqrt{2gh} \\cdot A \\ dt\n",
    "$$\n",
    "\n",
    "$$\n",
    "\\int_{vc}  \\frac{\\pi \\cdot r^2 \\cdot dh}{\\sqrt{h}} = - \\int_{sc} C_v \\cdot \\sqrt{2g} \\cdot A \\ dt\n",
    "$$\n",
    "\n",
    "$$\n",
    "\\Rightarrow r = 0.11 m \\Rightarrow h = 0.30 m \\Rightarrow A = 1.7671x10^{-4} \\ m^2 \\Rightarrow t = 69.83 s\n",
    "$$\n",
    "\n",
    "$$\n",
    "\\frac{\\pi \\cdot r^2}{\\sqrt{h}}\\int_{30}^{0} dh = -  C_v \\cdot \\sqrt{2g} \\cdot A \\int_{sc} dt\n",
    "$$\n",
    "\n",
    "$$\n",
    "\\frac{\\pi \\cdot r^2}{\\sqrt{h}}\\int_{30}^{0} dh = -  C_v \\cdot \\sqrt{2g} \\cdot A \\int_{sc} dt\n",
    "$$\n",
    "\n",
    "$$\n",
    "\\therefore - \\frac{\\pi (0.11)^2 (0.3)}{\\sqrt{0.3}}  = - C_v \\ (\\sqrt{2 \\cdot 9.81}) (1.7671x10^{-4}) (69.83)\n",
    "$$\n",
    "\n",
    "$$\n",
    "- 0.02082 = -C_v (0.054658)\n",
    "$$\n",
    "\n",
    "$$\n",
    "C_v =  0.3809\n",
    "$$\n"
   ]
  },
  {
   "cell_type": "markdown",
   "metadata": {},
   "source": [
    "_Una ves obtenido el $C_v$ de una primera muestra experimental, regresamos unos pasos atrás en la ecuación de energía para determinar una ecuación especial de tiempos con respecto a las diferentes \"$h$\" que se tomarán_"
   ]
  },
  {
   "cell_type": "markdown",
   "metadata": {},
   "source": [
    "$$\n",
    "t = \\frac{- (\\pi)(0.11)^2(h)}{-(\\sqrt{h})(2.9814x10^{-4})}\n",
    "$$\n",
    "\n",
    "$$\n",
    "t = 69.8354 s\n",
    "$$"
   ]
  },
  {
   "cell_type": "code",
   "execution_count": 5,
   "metadata": {},
   "outputs": [
    {
     "name": "stdout",
     "output_type": "stream",
     "text": [
      "Tiempo 1 a 30 cm es: 69.8354s\n",
      "Tiempo 2 a 28 cm es: 67.4674s\n",
      "Tiempo 3 a 26 cm es: 65.0132s\n",
      "Tiempo 4 a 24 cm es: 62.4627s\n",
      "Tiempo 5 a 22 cm es: 59.8035s\n",
      "Tiempo 6 a 20 cm es: 57.0204s\n",
      "Tiempo 7 a 18 cm es: 54.0943s\n",
      "Tiempo 8 a 16 cm es: 51.0006s\n",
      "Tiempo 9 a 14 cm es: 47.7067s\n",
      "Tiempo 10 a 12 cm es: 44.1678s\n",
      "Tiempo 11 a 10 cm es: 40.3195s\n",
      "Tiempo 12 a 8 cm es: 36.0628s\n",
      "Tiempo 13 a 6 cm es: 31.2313s\n",
      "Tiempo 14 a 4 cm es: 25.5003s\n",
      "Tiempo 15 a 2 cm es: 18.0314s\n"
     ]
    }
   ],
   "source": [
    "import math\n",
    "import matplotlib.pyplot as plt\n",
    "\n",
    "# Datos calculados de vaciado \n",
    "\n",
    "datos = []\n",
    "for a,h in enumerate(range(30,0,-2)):\n",
    "  print(f\"Tiempo {a+1} a {h} cm es: {((math.pi)*(0.11**2)*(h/100))/((((h/100))**0.5)*(2.9814*10**-4)):.4f}s\")\n",
    "  datos.append(((math.pi)*(0.11**2)*(h/100))/((((h/100))**0.5)*(2.9814*10**-4)))"
   ]
  },
  {
   "cell_type": "code",
   "execution_count": 6,
   "metadata": {},
   "outputs": [
    {
     "name": "stdout",
     "output_type": "stream",
     "text": [
      "12\n"
     ]
    }
   ],
   "source": [
    "# Datos experimentales de vaciado\n",
    "datoexp = [69.83,67.32,63.68,59.54,55.99,52.53,48.7,44,39.64,33.91,28.15,22.6]\n",
    "cuenta = len(datoexp) \n",
    "print(cuenta)"
   ]
  },
  {
   "cell_type": "code",
   "execution_count": 14,
   "metadata": {},
   "outputs": [
    {
     "data": {
      "text/plain": [
       "<function matplotlib.pyplot.show(close=None, block=None)>"
      ]
     },
     "execution_count": 14,
     "metadata": {},
     "output_type": "execute_result"
    },
    {
     "data": {
      "image/png": "[encoded data removed]",
      "text/plain": [
       "<Figure size 640x480 with 1 Axes>"
      ]
     },
     "metadata": {},
     "output_type": "display_data"
    }
   ],
   "source": [
    "data = datos[-1::-1]\n",
    "dataexp = datoexp[-1::-1]\n",
    "plt.plot(range(0,30,2),data, color='c', marker='o')\n",
    "plt.plot(range(6,30,2),dataexp, color='r', marker='o')\n",
    "plt.title(\"Tiempo de vaciado\")\n",
    "plt.xlabel(\"Altura (cm)\")\n",
    "plt.ylabel(\"Tiempo (s)\")\n",
    "plt.legend([\"Datos calculados\",\"Datos experimentales\"])\n",
    "plt.show"
   ]
  },
  {
   "cell_type": "code",
   "execution_count": null,
   "metadata": {},
   "outputs": [],
   "source": []
  },
  {
   "cell_type": "code",
   "execution_count": null,
   "metadata": {},
   "outputs": [],
   "source": []
  }
 ],
 "metadata": {
  "kernelspec": {
   "display_name": "Python 3.9.13 ('base')",
   "language": "python",
   "name": "python3"
  },
  "language_info": {
   "codemirror_mode": {
    "name": "ipython",
    "version": 3
   },
   "file_extension": ".py",
   "mimetype": "text/x-python",
   "name": "python",
   "nbconvert_exporter": "python",
   "pygments_lexer": "ipython3",
   "version": "3.9.13"
  },
  "orig_nbformat": 4,
  "vscode": {
   "interpreter": {
    "hash": "3924ed30227e34da5a4c68c183321c9d32f94e2bda1bf4a622c4e1f08e1e696d"
   }
  }
 },
 "nbformat": 4,
 "nbformat_minor": 2
}
