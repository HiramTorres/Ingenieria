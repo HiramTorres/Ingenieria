{
 "cells": [
  {
   "cell_type": "markdown",
   "metadata": {},
   "source": [
    "# Práctica 1 \n",
    "## Vaciado de un depósito cilíndrico"
   ]
  },
  {
   "cell_type": "markdown",
   "metadata": {},
   "source": [
    "Se analizó un depósito cilíndrico de 22 cm de diámetro el cual se encuentra lleno de agua a diferentes alturas. Se abrió una válvula de descarga en la parte inferior del depósito, la cual tiene un volumen de control de 1.5 cm ubicado en la base del depósito. Se desea determinar el tiempo que tarda en vaciarse el depósito."
   ]
  },
  {
   "cell_type": "markdown",
   "metadata": {},
   "source": [
    "![img](https://encrypted-tbn0.gstatic.com/images?q=tbn:ANd9GcQ2RaXRNggxzgDlwBu4X_Li9vQDtPG3oiP5KSZSv0RJT31kCsononsESrO6sdO276O5L1g&usqp=CAU)"
   ]
  },
  {
   "cell_type": "markdown",
   "metadata": {},
   "source": [
    "**Fórmulas necesarias**\n",
    "\n",
    "$$\n",
    "Ecuación \\ de \\ Continuidad\n",
    "$$\n",
    "\n",
    "\n",
    "$$\n",
    "\\frac{\\partial}{\\partial t} \\int_{vc} \\rho \\ d \\forall = - \\int_{sc} \\rho v \\ dA\n",
    "$$ \n",
    "\n",
    "$$\n",
    "Coeficiente \\ de \\ Velocidad\n",
    "$$\n",
    "$$\n",
    "v = C_v \\cdot \\sqrt{2gh}\n",
    "$$\n",
    "\n"
   ]
  },
  {
   "cell_type": "markdown",
   "metadata": {},
   "source": [
    "$Desarrollo$\n",
    "\n",
    "Se hizó una primera muestra para determinar el tiempo de vaciado real, con este dato $t$ se determinó el coeficiente de velocidad $C_v$ y con este se determinó el tiempo de vaciado teórico para distintas medidas, con la finalidad de hace una comparativa real vs teórico."
   ]
  },
  {
   "cell_type": "markdown",
   "metadata": {},
   "source": [
    "$$\n",
    "\\frac{\\partial}{\\partial t} \\int_{vc} \\rho \\ d \\forall = - \\int_{sc} \\rho v \\ dA \\longrightarrow  d\\forall = \\pi \\cdot r^2 \\cdot dh \n",
    "$$ \n",
    "\n",
    "$$\n",
    "\\frac{\\partial}{\\partial t} \\ \\rho \\int_{vc}  \\pi \\cdot r^2 \\cdot dh = - \\int_{sc} \\rho v \\ dA \\longrightarrow v = C_v \\cdot \\sqrt{2gh}\n",
    "$$\n",
    "\n",
    "$$\n",
    "\\frac{\\partial}{\\partial t} \\ \\rho \\int_{vc}  \\pi \\cdot r^2 \\cdot dh = - \\rho \\int_{sc} C_v \\cdot \\sqrt{2gh} \\cdot dA\n",
    "$$\n",
    "\n",
    "$$\n",
    "\\int_{vc}  \\pi \\cdot r^2 \\cdot dh = - \\int_{sc} C_v \\cdot \\sqrt{2gh} \\cdot A \\ dt\n",
    "$$\n",
    "\n",
    "$$\n",
    "\\int_{vc}  \\frac{\\pi \\cdot r^2 \\cdot dh}{\\sqrt{h}} = - \\int_{sc} C_v \\cdot \\sqrt{2g} \\cdot A \\ dt\n",
    "$$"
   ]
  },
  {
   "cell_type": "code",
   "execution_count": 6,
   "metadata": {},
   "outputs": [
    {
     "name": "stdout",
     "output_type": "stream",
     "text": [
      "Tiempo 1 a 30 cm es: 70.2611s\n",
      "Tiempo 2 a 28 cm es: 65.5770s\n",
      "Tiempo 3 a 26 cm es: 60.8930s\n",
      "Tiempo 4 a 24 cm es: 56.2089s\n",
      "Tiempo 5 a 22 cm es: 51.5248s\n",
      "Tiempo 6 a 20 cm es: 46.8407s\n",
      "Tiempo 7 a 18 cm es: 42.1567s\n",
      "Tiempo 8 a 16 cm es: 37.4726s\n",
      "Tiempo 9 a 14 cm es: 32.7885s\n",
      "Tiempo 10 a 12 cm es: 28.1044s\n",
      "Tiempo 11 a 10 cm es: 23.4204s\n",
      "Tiempo 12 a 8 cm es: 18.7363s\n",
      "Tiempo 13 a 6 cm es: 14.0522s\n",
      "Tiempo 14 a 4 cm es: 9.3681s\n",
      "Tiempo 15 a 2 cm es: 4.6841s\n"
     ]
    }
   ],
   "source": [
    "for a,i in enumerate(range(30,0,-2)):\n",
    "  print(f\"Tiempo {a+1} a {i} cm es: {(0.085*i/100)/((0.46371)*(7.8267*10**-4)):.4f}s\")"
   ]
  },
  {
   "cell_type": "markdown",
   "metadata": {},
   "source": []
  }
 ],
 "metadata": {
  "kernelspec": {
   "display_name": "Python 3.9.13 ('base')",
   "language": "python",
   "name": "python3"
  },
  "language_info": {
   "codemirror_mode": {
    "name": "ipython",
    "version": 3
   },
   "file_extension": ".py",
   "mimetype": "text/x-python",
   "name": "python",
   "nbconvert_exporter": "python",
   "pygments_lexer": "ipython3",
   "version": "3.9.13"
  },
  "orig_nbformat": 4,
  "vscode": {
   "interpreter": {
    "hash": "3924ed30227e34da5a4c68c183321c9d32f94e2bda1bf4a622c4e1f08e1e696d"
   }
  }
 },
 "nbformat": 4,
 "nbformat_minor": 2
}
