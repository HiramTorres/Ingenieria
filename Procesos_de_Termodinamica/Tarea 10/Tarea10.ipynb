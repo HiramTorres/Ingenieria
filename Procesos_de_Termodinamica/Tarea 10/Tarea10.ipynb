{
 "cells": [
  {
   "cell_type": "markdown",
   "metadata": {},
   "source": [
    "# Solución de tarea 10 con función de interpolación\n"
   ]
  },
  {
   "cell_type": "code",
   "execution_count": 1,
   "metadata": {},
   "outputs": [],
   "source": [
    "def interpolacion (y0,x,x0,y1,x1):\n",
    "    return y0+(x-x0)*((y1-y0)/(x1-x0))"
   ]
  },
  {
   "cell_type": "code",
   "execution_count": 5,
   "metadata": {},
   "outputs": [
    {
     "name": "stdout",
     "output_type": "stream",
     "text": [
      "y es = 342.59599565217394\n"
     ]
    }
   ],
   "source": [
    "x = float(input(\"Valor x:\"))\n",
    "x0 = float(input(\"Valor x0:\"))\n",
    "x1 = float(input(\"Valor x1:\"))\n",
    "y0 = float(input(\"Valor y0:\"))\n",
    "y1 = float(input(\"Valor y1:\"))\n",
    "resultado = interpolacion(y0,x,x0,y1,x1)\n",
    "print(f'y es = {resultado}')"
   ]
  },
  {
   "cell_type": "code",
   "execution_count": null,
   "metadata": {},
   "outputs": [],
   "source": []
  }
 ],
 "metadata": {
  "kernelspec": {
   "display_name": "Python 3.9.12 ('base')",
   "language": "python",
   "name": "python3"
  },
  "language_info": {
   "codemirror_mode": {
    "name": "ipython",
    "version": 3
   },
   "file_extension": ".py",
   "mimetype": "text/x-python",
   "name": "python",
   "nbconvert_exporter": "python",
   "pygments_lexer": "ipython3",
   "version": "3.9.13"
  },
  "orig_nbformat": 4,
  "vscode": {
   "interpreter": {
    "hash": "3924ed30227e34da5a4c68c183321c9d32f94e2bda1bf4a622c4e1f08e1e696d"
   }
  }
 },
 "nbformat": 4,
 "nbformat_minor": 2
}
